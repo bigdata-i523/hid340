{
 "cells": [
  {
   "cell_type": "markdown",
   "metadata": {},
   "source": [
    "# Write your Own Perceptron \n",
    "\n",
    "In our examples, we have seen different algorithms and we could use scikit learn functions to get the paramters. However, do you know how is it implemented? To understand it, we could start from perceptron, which could also be an important concept for future studies in deep learning.\n",
    "\n",
    "The perceptron can be used for supervised learning. It can solve binary linear classification problems. A comprehensive description of the functionality of a perceptron is out of scope here. To follow this tutorial you already should know what a perceptron is and understand the basics of its functionality. Additionally a fundamental understanding of stochastic gradient descent is needed. To get in touch with the theoretical background, I advise the Wikipedia article:\n",
    "    \n",
    "[Wikipedia - Perceptron](https://en.wikipedia.org/wiki/Perceptron)\n",
    "\n",
    "Furthermore I highly advise you the book of Schölkopf & Smola. Do not let the math scrare you, as they explain the basics of machine learning in a really comprehensive way:\n",
    "\n",
    "**Schölkopf & Smola** (2002). Learning with Kernels. Support Vector Machines, Regularization, Optimization, and Beyond. \n",
    "\n",
    "To better understand the internal processes of a perceptron in practice, we will step by step develop a perceptron from scratch now."
   ]
  },
  {
   "cell_type": "code",
   "execution_count": 35,
   "metadata": {
    "collapsed": true
   },
   "outputs": [],
   "source": [
    "# import our packages\n",
    "import numpy as np\n",
    "from matplotlib import pyplot as plt\n",
    "%matplotlib inline"
   ]
  },
  {
   "cell_type": "markdown",
   "metadata": {},
   "source": [
    "### Stochastic Gradient Descent\n",
    "\n",
    "We will implement the perceptron algorithm in python 3 and numpy. The perceptron will learn using the stochastic gradient descent algorithm (SGD). Gradient Descent minimizes a function by following the gradients of the cost function. For further details see:\n",
    "\n",
    "[Wikipedia - stochastic gradient descent](https://en.wikipedia.org/wiki/Stochastic_gradient_descent)\n",
    "\n",
    "### Calculating the Error \n",
    "\n",
    "To calculate the error of a prediction we first need to define the objective function of the perceptron. \n",
    "\n",
    "#### Hinge Loss Function\n",
    "\n",
    "To do this, we need to define the loss function, to calculate the prediction error. We will use hinge loss for our perceptron:\n",
    "\n",
    "$$c(x, y, f(x)) = (1 - y * f(x))_+$$"
   ]
  },
  {
   "cell_type": "markdown",
   "metadata": {},
   "source": [
    "$c$ is the loss function, $x$ the sample, $y$ is the true label, $f(x)$ the predicted label.\n",
    "This means the following:\n",
    "$$\n",
    "c(x, y, f(x))= \n",
    "\\begin{cases}\n",
    "    0,& \\text{if } y * f(x)\\geq 1\\\\\n",
    "    1-y*f(x),              & \\text{else}\n",
    "\\end{cases}\n",
    "$$\n",
    "So consider, if y and f(x) are signed values $(+1,-1)$:\n",
    "\n",
    "<ul>\n",
    "    <li>the loss is 0, if $y*f(x)$ are positive, respective both values have the same sign.</li>\n",
    "    <li>loss is $1-y*f(x)$ if $y*f(x)$ is negative</li>\n",
    "</ul>\n",
    "\n",
    "#### Objective Function \n",
    "\n",
    "As we defined the loss function, we can now define the objective function for the perceptron:"
   ]
  },
  {
   "cell_type": "markdown",
   "metadata": {},
   "source": [
    "$$l_i(w) = \\big(-y_i \\langle x_i,w \\rangle\\big)_+$$\n",
    "We can write this without the dot product with a sum sign:\n",
    "$$l_i(w) = (-y_i \\sum_{i=1}^n x_iw)_+$$\n",
    "So the sample $x_i$ is misclassified, if $y_i \\langle x_i,w \\rangle \\leq 0$. The general goal is, to find the global minima of this function, respectively find a parameter $w$, where the error is zero.\n",
    "\n",
    "#### Derive the Objective Function\n",
    "\n",
    "To do this we need the gradients of the objective function. The gradient of a function $f$ is the vector of its partial derivatives. The gradient can be calculated by the partially derivative of the objective function.\n",
    "\n",
    "$$ \\nabla l_i(w) = -y_i x_i $$\n",
    "\n",
    "\n",
    "This means, if we have a misclassified sample $x_i$, respectively $ y_i \\langle x_i,w \\rangle \\leq 0 $, update the weight vector\n",
    "$w$ by moving it in the direction of the misclassified sample.\n",
    "\n",
    "$$w = w + y_i x_i$$\n",
    "\n",
    "With this update rule in mind, we can start writing our perceptron algorithm in python."
   ]
  },
  {
   "cell_type": "markdown",
   "metadata": {},
   "source": [
    "### Our Data Set \n",
    "\n",
    "First we need to define a labeled data set."
   ]
  },
  {
   "cell_type": "code",
   "execution_count": 31,
   "metadata": {
    "collapsed": true
   },
   "outputs": [],
   "source": [
    "X = np.array([\n",
    "    [-2, 4],\n",
    "    [4, 1],\n",
    "    [1, 6],\n",
    "    [2, 4],\n",
    "    [6, 2]\n",
    "])"
   ]
  },
  {
   "cell_type": "markdown",
   "metadata": {},
   "source": [
    "Next we fold a bias term -1 into the data set. This is needed for the SGD to work. Details see [The Perceptron algorithm](https://www.google.de/url?sa=t&rct=j&q=&esrc=s&source=web&cd=3&ved=0ahUKEwiQvp-F_PjSAhVLWRoKHbyLCgEQFggrMAI&url=http%3A%2F%2Fu.cs.biu.ac.il%2F~jkeshet%2Fteaching%2Fiml2016%2Fiml2016_tirgul03.pdf&usg=AFQjCNFpAYxgitb3mOnpE4aQdu6iLgFc0g&bvm=bv.150729734,d.d2s)"
   ]
  },
  {
   "cell_type": "code",
   "execution_count": 348,
   "metadata": {},
   "outputs": [
    {
     "name": "stdout",
     "output_type": "stream",
     "text": [
      "-7.5\n",
      "-3.0\n",
      "10.5\n",
      "4.5\n",
      "7.5\n"
     ]
    }
   ],
   "source": [
    "X = np.array([\n",
    "    [-2,4,-1],\n",
    "    [4,1,-1],\n",
    "    [1, 6, -1],\n",
    "    [2, 4, -1],\n",
    "    [6, 2, -1],\n",
    "\n",
    "])\n",
    "w = np.array([3., 4.5, 19.5])\n",
    "for x in X:\n",
    "    print(np.dot(x, w))"
   ]
  },
  {
   "cell_type": "code",
   "execution_count": 33,
   "metadata": {
    "collapsed": true
   },
   "outputs": [],
   "source": [
    "y = np.array([-1,-1,1,1,1])"
   ]
  },
  {
   "cell_type": "markdown",
   "metadata": {},
   "source": [
    "This small toy data set contains two samples labeled with $-1$ and three samples labeled with $+1$. This means we have a binary classification problem, as the data set contains two sample classes. Lets plot the dataset to see, that is is linearly seperable:"
   ]
  },
  {
   "cell_type": "code",
   "execution_count": 36,
   "metadata": {},
   "outputs": [
    {
     "data": {
      "text/plain": [
       "[<matplotlib.lines.Line2D at 0x7fe0704b0be0>]"
      ]
     },
     "execution_count": 36,
     "metadata": {},
     "output_type": "execute_result"
    },
    {
     "data": {
      "image/png": "[encoded data removed]",
      "text/plain": [
       "<matplotlib.figure.Figure at 0x7fe0704b0c18>"
      ]
     },
     "metadata": {},
     "output_type": "display_data"
    }
   ],
   "source": [
    "for d, sample in enumerate(X):\n",
    "    # Plot the negative samples\n",
    "    if d < 2:\n",
    "        plt.scatter(sample[0], sample[1], s=120, marker='_', linewidths=2)\n",
    "    # Plot the positive samples\n",
    "    else:\n",
    "        plt.scatter(sample[0], sample[1], s=120, marker='+', linewidths=2)\n",
    "\n",
    "# Print a possible hyperplane, that is seperating the two classes.\n",
    "plt.plot([-2,6],[6,0.5])"
   ]
  },
  {
   "cell_type": "markdown",
   "metadata": {},
   "source": [
    "## Your task: Lets Start implementing Stochastic Gradient Descent \n",
    "\n",
    "Finally we can code our SGD algorithm using our update rule. To keep it simple, we will linearly loop over the sample set. For larger data sets it makes sence, to randomly pick a sample during each iteration in the for-loop."
   ]
  },
  {
   "cell_type": "markdown",
   "metadata": {},
   "source": [
    "#### Code Description Line by Line\n",
    "\n",
    "line <b>1</b>: Initialize the weight vector for the perceptron with zeros<br>\n",
    "line <b>2</b>: Set the learning rate to 1<br>\n",
    "line <b>3</b>: Set the number of epochs<br>\n",
    "line <b>4</b>: Iterate n times over the whole data set.<br>\n",
    "line <b>5</b>: Iterate over each sample in the data set<br>\n",
    "line <b>6</b>: Misclassification condition $y_i \\langle x_i,w \\rangle \\leq 0$<br>\n",
    "line <b>7</b>: Update rule for the weights $w = w + y_i * x_i$ including the learning rate"
   ]
  },
  {
   "cell_type": "code",
   "execution_count": 346,
   "metadata": {},
   "outputs": [],
   "source": [
    "def perceptron_sgd(X, y):\n",
    "    #line 1:\n",
    "    w = np.zeros(len(X[0]))\n",
    "    \n",
    "    #line 2:\n",
    "    eta = 1.5\n",
    "    \n",
    "    #line 3\n",
    "    epochs = 15\n",
    "    \n",
    "    ####Please finish the algorithm here as description\n",
    "    \n",
    "    #line 4\n",
    "    for epoch in range(epochs):\n",
    "        # Track misclassifications\n",
    "        error = []\n",
    "        #line 5   \n",
    "        for i, sample in enumerate(X):            \n",
    "            input = np.dot(sample, w)\n",
    "            #line 6                \n",
    "            if y[i] * input <= 0:\n",
    "                #line 7\n",
    "                w += eta * (y[i] * sample)\n",
    "            \n",
    "            # Predict and add labels\n",
    "            error.append(int(predict(input) == y[i]))\n",
    "        # Report error rate for each epoch\n",
    "        error = np.array(error)\n",
    "        print(\"Error rate: \", len(error[error == 0])/len(X))        \n",
    "    #############\n",
    "    return w\n",
    "\n",
    "def predict(input):\n",
    "    return 1 if input >= 0 else -1\n",
    "        "
   ]
  },
  {
   "cell_type": "code",
   "execution_count": 347,
   "metadata": {},
   "outputs": [
    {
     "name": "stdout",
     "output_type": "stream",
     "text": [
      "Error rate:  0.8\n",
      "Error rate:  0.6\n",
      "Error rate:  0.6\n",
      "Error rate:  0.6\n",
      "Error rate:  0.6\n",
      "Error rate:  0.6\n",
      "Error rate:  0.6\n",
      "Error rate:  0.6\n",
      "Error rate:  0.6\n",
      "Error rate:  0.4\n",
      "Error rate:  0.6\n",
      "Error rate:  0.6\n",
      "Error rate:  0.6\n",
      "Error rate:  0.2\n",
      "Error rate:  0.0\n"
     ]
    },
    {
     "data": {
      "text/plain": [
       "array([  3. ,   4.5,  19.5])"
      ]
     },
     "execution_count": 347,
     "metadata": {},
     "output_type": "execute_result"
    }
   ],
   "source": [
    "perceptron_sgd(X, y)"
   ]
  },
  {
   "cell_type": "markdown",
   "metadata": {},
   "source": [
    "#### Record linkage examples"
   ]
  },
  {
   "cell_type": "code",
   "execution_count": 87,
   "metadata": {},
   "outputs": [
    {
     "data": {
      "text/plain": [
       "\"Well Ain't Dry\""
      ]
     },
     "execution_count": 87,
     "metadata": {},
     "output_type": "execute_result"
    }
   ],
   "source": [
    "import recordlinkage as rl\n",
    "from fuzzywuzzy import fuzz\n",
    "from fuzzywuzzy import process\n",
    "import jellyfish as jf\n",
    "\n",
    "fuzz.ratio(\"Well Ain't Dry\", \"Ain't Dry\")\n",
    "\n",
    "jf.jaro_winkler(jf.porter_stem(\"Well Ain't Dry\"), \"Ain't Dry\")\n",
    "\n",
    "jf.porter_stem(\"Well Ain't Dryers\")"
   ]
  },
  {
   "cell_type": "code",
   "execution_count": 61,
   "metadata": {},
   "outputs": [],
   "source": [
    "import numpy as np\n",
    "import pandas as pd\n",
    "import pymarc as pymarc\n",
    "import stringcmp as cmp\n",
    "\n",
    "source = pd.read_csv(\"../source_records.csv\")\n",
    "target = pd.read_csv(\"../target_records.csv\")\n",
    "\n",
    "#source_target = pd.merge(source, target, how=\"inner\", on=[\"key\"])\n",
    "#source_target.dropna(inplace=True)\n",
    "\n",
    "#ratio = [fuzz.ratio(str(row[\"title_x\"]), str(row[\"title_y\"]))/100\n",
    "#         for index, row in source_target.iterrows() \n",
    "#         if fuzz.ratio(str(row[\"title_x\"]), str(row[\"title_y\"]))/100 >= 0.7]\n",
    "#len(ratio)\n",
    "\n",
    "with open(\"../marc/stubs.mrc\", \"rb\") as fh:\n",
    "    stubs = pymarc.MARCReader(fh)\n",
    "#    for record in reader:\n",
    "#        print(record)\n",
    "\n",
    "with open(\"../marc/rev2/best-rev2.mrc\", \"rb\") as fh2:\n",
    "    best = pymarc.MARCReader(fh2)\n",
    "#    for record in best:\n",
    "#        print(record)\n",
    "\n",
    "def get_source():    \n",
    "    with open(\"../marc/stubs.mrc\", \"rb\") as fh:\n",
    "        stubs = pymarc.MARCReader(fh)        \n",
    "        for record in stubs:\n",
    "            if \"banned\" in record.title().lower():\n",
    "                data = [\"Cynthia Connolly\", record[\"245\"][\"a\"], record[\"264\"][\"b\"], record[\"264\"][\"c\"]]\n",
    "                return np.array(data)\n",
    "\n",
    "def get_target():            \n",
    "    with open(\"../marc/rev2/rest-rev2.mrc\", \"rb\") as fh3:\n",
    "        rest = pymarc.MARCReader(fh3)\n",
    "        for record in rest:\n",
    "            if \"banned\" in record.title().lower():            \n",
    "                data = [\"Connolly, Cynthia\", record[\"245\"][\"a\"], record[\"260\"][\"b\"], record[\"260\"][\"c\"]]\n",
    "                return np.array(data)\n",
    "\n",
    "source_data = get_source()\n",
    "target_data = get_target()\n",
    "\n",
    "pair = [cmp.editdist(pair[0], pair[1]) for pair in zip(source_data, target_data)]\n",
    "input = np.array(pair)\n",
    "\n",
    "\n"
   ]
  },
  {
   "cell_type": "code",
   "execution_count": 71,
   "metadata": {},
   "outputs": [
    {
     "data": {
      "text/plain": [
       "3.4944663193478056"
      ]
     },
     "execution_count": 71,
     "metadata": {},
     "output_type": "execute_result"
    }
   ],
   "source": [
    "class NeuralNet(object):\n",
    "    \n",
    "    def __init__(self):        \n",
    "        self.weight = np.random.randn()\n",
    "        self.bias = np.random.randn()\n",
    "        self.eta = 0.01\n",
    "        self.epochs = 10\n",
    "        \n",
    "    def sgd(self, X, y):\n",
    "        for epoch in range(self.epochs):\n",
    "            if (np.sum(y * np.dot(X, self.weight) + self.bias)) <= 0.5:\n",
    "                print(self.weight)\n",
    "                self.weight += y * X * self.eta\n",
    "        return np.sum(y * np.dot(X, self.weight) + self.bias)\n",
    "            \n",
    "net = NeuralNet()\n",
    "net.sgd(input, 1.)"
   ]
  },
  {
   "cell_type": "code",
   "execution_count": null,
   "metadata": {
    "collapsed": true
   },
   "outputs": [],
   "source": [
    "        self.biases = [np.random.randn(y, 1) for y in sizes[1:]]\n",
    "        self.weights = [np.random.randn(y, x) \n",
    "                        for x, y in zip(sizes[:-1], sizes[1:])]\n",
    "    \n",
    "    def perceptron_sgd(X, y):\n",
    "    #line 1:\n",
    "    w = np.zeros(len(X[0]))\n",
    "    \n",
    "    #line 2:\n",
    "    eta = 1\n",
    "    \n",
    "    #line 3\n",
    "    epochs = 10\n",
    "    \n",
    "    ####Please finish the algorithm here as description\n",
    "    #line 4\n",
    "    for epoch in range(epochs):\n",
    "        #line 5   \n",
    "        for i, sample in enumerate(X):\n",
    "            #line 6\n",
    "            if y[i] * np.dot(sample, w) <= 0:                \n",
    "                #line 7\n",
    "                print(w) # Diagnostic output to show changing values of w\n",
    "                w += y[i] * sample * eta             \n",
    "    #############\n",
    "    return w"
   ]
  },
  {
   "cell_type": "code",
   "execution_count": 43,
   "metadata": {},
   "outputs": [
    {
     "data": {
      "text/plain": [
       "array([[-0.17379297, -1.22428087]])"
      ]
     },
     "execution_count": 43,
     "metadata": {},
     "output_type": "execute_result"
    }
   ],
   "source": [
    "np.random.randn(1, 2)"
   ]
  },
  {
   "cell_type": "markdown",
   "metadata": {},
   "source": [
    "#### Iris data demo"
   ]
  },
  {
   "cell_type": "code",
   "execution_count": 352,
   "metadata": {},
   "outputs": [
    {
     "data": {
      "text/html": [
       "<div>\n",
       "<style>\n",
       "    .dataframe thead tr:only-child th {\n",
       "        text-align: right;\n",
       "    }\n",
       "\n",
       "    .dataframe thead th {\n",
       "        text-align: left;\n",
       "    }\n",
       "\n",
       "    .dataframe tbody tr th {\n",
       "        vertical-align: top;\n",
       "    }\n",
       "</style>\n",
       "<table border=\"1\" class=\"dataframe\">\n",
       "  <thead>\n",
       "    <tr style=\"text-align: right;\">\n",
       "      <th></th>\n",
       "      <th>0</th>\n",
       "      <th>1</th>\n",
       "      <th>2</th>\n",
       "      <th>3</th>\n",
       "      <th>4</th>\n",
       "    </tr>\n",
       "  </thead>\n",
       "  <tbody>\n",
       "    <tr>\n",
       "      <th>145</th>\n",
       "      <td>6.7</td>\n",
       "      <td>3.0</td>\n",
       "      <td>5.2</td>\n",
       "      <td>2.3</td>\n",
       "      <td>Iris-virginica</td>\n",
       "    </tr>\n",
       "    <tr>\n",
       "      <th>146</th>\n",
       "      <td>6.3</td>\n",
       "      <td>2.5</td>\n",
       "      <td>5.0</td>\n",
       "      <td>1.9</td>\n",
       "      <td>Iris-virginica</td>\n",
       "    </tr>\n",
       "    <tr>\n",
       "      <th>147</th>\n",
       "      <td>6.5</td>\n",
       "      <td>3.0</td>\n",
       "      <td>5.2</td>\n",
       "      <td>2.0</td>\n",
       "      <td>Iris-virginica</td>\n",
       "    </tr>\n",
       "    <tr>\n",
       "      <th>148</th>\n",
       "      <td>6.2</td>\n",
       "      <td>3.4</td>\n",
       "      <td>5.4</td>\n",
       "      <td>2.3</td>\n",
       "      <td>Iris-virginica</td>\n",
       "    </tr>\n",
       "    <tr>\n",
       "      <th>149</th>\n",
       "      <td>5.9</td>\n",
       "      <td>3.0</td>\n",
       "      <td>5.1</td>\n",
       "      <td>1.8</td>\n",
       "      <td>Iris-virginica</td>\n",
       "    </tr>\n",
       "  </tbody>\n",
       "</table>\n",
       "</div>"
      ],
      "text/plain": [
       "       0    1    2    3               4\n",
       "145  6.7  3.0  5.2  2.3  Iris-virginica\n",
       "146  6.3  2.5  5.0  1.9  Iris-virginica\n",
       "147  6.5  3.0  5.2  2.0  Iris-virginica\n",
       "148  6.2  3.4  5.4  2.3  Iris-virginica\n",
       "149  5.9  3.0  5.1  1.8  Iris-virginica"
      ]
     },
     "execution_count": 352,
     "metadata": {},
     "output_type": "execute_result"
    }
   ],
   "source": [
    "df = pd.read_csv(\"https://archive.ics.uci.edu/ml/machine-learning-databases/iris/iris.data\", header=None)\n",
    "df.tail()"
   ]
  },
  {
   "cell_type": "code",
   "execution_count": 361,
   "metadata": {},
   "outputs": [
    {
     "data": {
      "image/png": "[encoded data removed]",
      "text/plain": [
       "<matplotlib.figure.Figure at 0x7fe059e96048>"
      ]
     },
     "metadata": {},
     "output_type": "display_data"
    }
   ],
   "source": [
    "y = df.iloc[0:100, 4].values\n",
    "y = np.where(y == \"Iris-setosa\", -1, 1)\n",
    "X = df.iloc[0:100, [0, 2]].values\n",
    "plt.scatter(X[:50, 0], X[:50, 1], color=\"red\", marker=\"o\", label=\"setosa\")\n",
    "plt.scatter(X[50:100, 0], X[50:100, 1], color=\"blue\", marker=\"x\", label=\"versicolor\")\n",
    "plt.xlabel(\"sepal length [cm]\")\n",
    "plt.ylabel(\"petal length [cm]\")\n",
    "plt.legend(loc=\"upper left\")\n",
    "plt.show()"
   ]
  },
  {
   "cell_type": "code",
   "execution_count": 364,
   "metadata": {},
   "outputs": [
    {
     "data": {
      "text/plain": [
       "1.9999999999999998"
      ]
     },
     "execution_count": 364,
     "metadata": {},
     "output_type": "execute_result"
    }
   ],
   "source": [
    "t = np.log(2)\n",
    "np.e**t"
   ]
  }
 ],
 "metadata": {
  "kernelspec": {
   "display_name": "Python 3",
   "language": "python",
   "name": "python3"
  },
  "language_info": {
   "codemirror_mode": {
    "name": "ipython",
    "version": 3
   },
   "file_extension": ".py",
   "mimetype": "text/x-python",
   "name": "python",
   "nbconvert_exporter": "python",
   "pygments_lexer": "ipython3",
   "version": "3.6.3"
  }
 },
 "nbformat": 4,
 "nbformat_minor": 2
}
