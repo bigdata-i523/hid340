{
 "cells": [
  {
   "cell_type": "code",
   "execution_count": 81,
   "metadata": {
    "collapsed": false
   },
   "outputs": [],
   "source": [
    "import pymarc as pymarc\n",
    "import numpy as np\n",
    "import pandas as pd\n",
    "from fuzzywuzzy import fuzz\n",
    "from fuzzywuzzy import process\n",
    "\n",
    "class NeuralNet:\n",
    "    \n",
    "    def __init__(self, input=3, hidden=3, output=1):\n",
    "        self.input = input\n",
    "        self.hidden = hidden\n",
    "        self.output = output\n",
    "        \n",
    "    def create_nodes(self):\n",
    "        for node in range(hidden):\n",
    "            \n",
    "        \n",
    "\n",
    "class Node:\n",
    "    def __init__(self):\n",
    "        return None\n",
    "          \n",
    "    def _get_weights(self):\n",
    "        return self.__weights\n",
    "    \n",
    "    def _set_weights(self, value):\n",
    "        self.__weights = value\n",
    "    \n",
    "    weights = property(_get_weights, _set_weights)\n",
    "   \n",
    "    @property\n",
    "    def bias(self):\n",
    "        return self.__bias\n",
    "    \n",
    "class Layer:\n",
    "    \n",
    "    node_list = []\n",
    "    \n",
    "    def __init__(self, node_count):        \n",
    "        self.node_count = node_count\n",
    "        self.nodes = [Node() for node in range(self.node_count)]\n",
    "    \n",
    "    \n",
    "\n",
    "    \n",
    "    \n",
    "\n",
    "        \n",
    "        \n",
    "def aggregate(values, weights, bias):\n",
    "    return np.dot(values, weights) + bias * 1\n",
    "\n",
    "def activate(aggregation):\n",
    "    return 1 / (1 + np.exp(-aggregation))\n",
    "\n",
    "def compute_total_error(target, output):\n",
    "    return np.sum(1/2 * (target - output)**2)\n",
    "\n",
    "def compute_e_partial_o1(target, output):\n",
    "    return 2 * 1/2 * (target - output) * -1\n",
    "\n",
    "def compute_o1_partial_net(output):\n",
    "    return output * (1 - output)\n"
   ]
  },
  {
   "cell_type": "code",
   "execution_count": 93,
   "metadata": {
    "collapsed": false
   },
   "outputs": [
    {
     "data": {
      "text/plain": [
       "array([ 0.,  0.,  0.])"
      ]
     },
     "execution_count": 93,
     "metadata": {},
     "output_type": "execute_result"
    }
   ],
   "source": [
    "X = np.array([\n",
    "    [-2,4,-1],\n",
    "    [4,1,-1],\n",
    "    [1, 6, -1],\n",
    "    [2, 4, -1],\n",
    "    [6, 2, -1],\n",
    "\n",
    "])\n",
    "weights = np.zeros(len(X[0]))\n",
    "weights"
   ]
  },
  {
   "cell_type": "code",
   "execution_count": 80,
   "metadata": {
    "collapsed": false
   },
   "outputs": [
    {
     "data": {
      "text/plain": [
       "array([[ 0.,  0.,  0.,  0.],\n",
       "       [ 0.,  0.,  0.,  0.],\n",
       "       [ 0.,  0.,  0.,  0.],\n",
       "       [ 0.,  0.,  0.,  0.],\n",
       "       [ 0.,  0.,  0.,  0.],\n",
       "       [ 0.,  0.,  0.,  0.]])"
      ]
     },
     "execution_count": 80,
     "metadata": {},
     "output_type": "execute_result"
    }
   ],
   "source": [
    "x = np.zeros((3, 8))\n",
    "x.shape = (6, 4)\n",
    "x"
   ]
  },
  {
   "cell_type": "code",
   "execution_count": 94,
   "metadata": {
    "collapsed": false
   },
   "outputs": [
    {
     "name": "stdout",
     "output_type": "stream",
     "text": [
      "0 --> 0\n",
      "0 --> 1\n",
      "0 --> 2\n",
      "1 --> 0\n",
      "1 --> 1\n",
      "1 --> 2\n",
      "2 --> 0\n",
      "2 --> 1\n",
      "2 --> 2\n"
     ]
    }
   ],
   "source": [
    "for input in range(3):\n",
    "    for hidden in range(3):\n",
    "        print(input, \"-->\", hidden)"
   ]
  }
 ],
 "metadata": {
  "kernelspec": {
   "display_name": "Python 3",
   "language": "python",
   "name": "python3"
  },
  "language_info": {
   "codemirror_mode": {
    "name": "ipython",
    "version": 3
   },
   "file_extension": ".py",
   "mimetype": "text/x-python",
   "name": "python",
   "nbconvert_exporter": "python",
   "pygments_lexer": "ipython3",
   "version": "3.6.0"
  }
 },
 "nbformat": 4,
 "nbformat_minor": 2
}
