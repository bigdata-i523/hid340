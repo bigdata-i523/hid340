{
 "cells": [
  {
   "cell_type": "code",
   "execution_count": 4,
   "metadata": {},
   "outputs": [],
   "source": [
    "import pymarc as pymarc\n",
    "import numpy as np\n",
    "import pandas as pd\n",
    "from fuzzywuzzy import fuzz\n",
    "from fuzzywuzzy import process\n",
    "\n",
    "class NeuralNet:\n",
    "    \n",
    "    def __init__(self, input=3, hidden=3, output=1):\n",
    "        self.input = input\n",
    "        self.hidden = hidden\n",
    "        self.output = output\n",
    "        \n",
    "    def create_nodes(self):\n",
    "        pass\n",
    "            \n",
    "        \n",
    "\n",
    "class Node:\n",
    "    \n",
    "    def __init__(self):\n",
    "        return None\n",
    "          \n",
    "    def _get_weights(self):\n",
    "        return self.__weights\n",
    "    \n",
    "    def _set_weights(self, value):\n",
    "        self.__weights = value\n",
    "    \n",
    "    weights = property(_get_weights, _set_weights)\n",
    "   \n",
    "    @property\n",
    "    def bias(self):\n",
    "        return self.__bias\n",
    "    \n",
    "class Layer:\n",
    "    \n",
    "    node_list = []\n",
    "    \n",
    "    def __init__(self, node_count):        \n",
    "        self.node_count = node_count\n",
    "        self.nodes = [Node() for node in range(self.node_count)]\n",
    "    \n",
    "    \n",
    "\n",
    "    \n",
    "    \n",
    "\n",
    "        \n",
    "        \n",
    "def aggregate(values, weights, bias):\n",
    "    return np.dot(values, weights) + bias * 1\n",
    "\n",
    "def activate(aggregation):\n",
    "    return 1 / (1 + np.exp(-aggregation))\n",
    "\n",
    "def compute_total_error(target, output):\n",
    "    return np.sum(1/2 * (target - output)**2)\n",
    "\n",
    "def compute_e_partial_o1(target, output):\n",
    "    return 2 * 1/2 * (target - output) * -1\n",
    "\n",
    "def compute_o1_partial_net(output):\n",
    "    return output * (1 - output)\n"
   ]
  },
  {
   "cell_type": "code",
   "execution_count": 93,
   "metadata": {},
   "outputs": [
    {
     "data": {
      "text/plain": [
       "array([ 0.,  0.,  0.])"
      ]
     },
     "execution_count": 93,
     "metadata": {},
     "output_type": "execute_result"
    }
   ],
   "source": [
    "X = np.array([\n",
    "    [-2,4,-1],\n",
    "    [4,1,-1],\n",
    "    [1, 6, -1],\n",
    "    [2, 4, -1],\n",
    "    [6, 2, -1],\n",
    "\n",
    "])\n",
    "weights = np.zeros(len(X[0]))\n",
    "weights"
   ]
  },
  {
   "cell_type": "code",
   "execution_count": 80,
   "metadata": {},
   "outputs": [
    {
     "data": {
      "text/plain": [
       "array([[ 0.,  0.,  0.,  0.],\n",
       "       [ 0.,  0.,  0.,  0.],\n",
       "       [ 0.,  0.,  0.,  0.],\n",
       "       [ 0.,  0.,  0.,  0.],\n",
       "       [ 0.,  0.,  0.,  0.],\n",
       "       [ 0.,  0.,  0.,  0.]])"
      ]
     },
     "execution_count": 80,
     "metadata": {},
     "output_type": "execute_result"
    }
   ],
   "source": [
    "x = np.zeros((3, 8))\n",
    "x.shape = (6, 4)\n",
    "x"
   ]
  },
  {
   "cell_type": "code",
   "execution_count": 94,
   "metadata": {},
   "outputs": [
    {
     "name": "stdout",
     "output_type": "stream",
     "text": [
      "0 --> 0\n",
      "0 --> 1\n",
      "0 --> 2\n",
      "1 --> 0\n",
      "1 --> 1\n",
      "1 --> 2\n",
      "2 --> 0\n",
      "2 --> 1\n",
      "2 --> 2\n"
     ]
    }
   ],
   "source": [
    "for input in range(3):\n",
    "    for hidden in range(3):\n",
    "        print(input, \"-->\", hidden)"
   ]
  },
  {
   "cell_type": "markdown",
   "metadata": {},
   "source": [
    "#### Input values\n",
    "`input = np.array([0.05, 0.1])`\n",
    "\n",
    "#### Input weights + bias\n",
    "```input_weights_1 = np.array([0.15, 0.2])\n",
    "input_weights_2 = np.array([0.25, 0.3])\n",
    "bias_1 = np.array([0.35])```\n",
    "\n",
    "#### Hidden layer weights + bias\n",
    "```\n",
    "hidden_weights_1 = np.array([.4, .45])\n",
    "hidden_weights_2 = np.array([.5, .55])\n",
    "bias_2 = np.array([.6])\n",
    "\n",
    "\n",
    "h1 = Node(input, input_weights_1, bias_1, aggregate, activate)\n",
    "h2 = Node(input, input_weights_2, bias_1, aggregate, activate)\n",
    "\n",
    "h_out = np.concatenate([h1.activate(), h2.activate()])\n",
    "\n",
    "o1 = Node(h_out, hidden_weights_1, bias_2, aggregate, activate)\n",
    "o2 = Node(h_out, hidden_weights_2, bias_2, aggregate, activate)\n",
    "\n",
    "o_out = np.concatenate([o1.activate(), o2.activate()])\n",
    "\n",
    "e_o1 = compute_total_error(0.01, o1.activate())\n",
    "e_o2 = compute_total_error(0.99, o2.activate())\n",
    "\n",
    "e_total = e_o1 + e_o2\n",
    "\n",
    "e_partial_o1 = compute_e_partial_o1(0.01, o1.activate())\n",
    "o1_partial_net = compute_o1_partial_net(o1.activate())\n",
    "o1_partial_w5 = 1 * h1.activate()\n",
    "w5 = 0.4 - .5 * e_partial_o1 * o1_partial_net * o1_partial_w5\n",
    "\n",
    "0.4 - 0.5 * 0.082167041\n",
    "w5\n",
    "```"
   ]
  },
  {
   "cell_type": "code",
   "execution_count": 207,
   "metadata": {},
   "outputs": [
    {
     "data": {
      "text/plain": [
       "array(['1', '?'],\n",
       "      dtype='<U21')"
      ]
     },
     "execution_count": 207,
     "metadata": {},
     "output_type": "execute_result"
    }
   ],
   "source": [
    "#sample = np.array([[[\"Florian van Roekel\", \"Roekel, Florian van, 1980- photographer.\"], [\"How Terry likes his coffee\", \"How Terry likes his coffee : a photo odyssey into office life /\"]], [[\"Sun Dog Propaganda\", \"Sun Dog Propaganda,\"], [\"Banned in DC\", \"Banned in DC : photos and anecdotes from the DC punk underground (79-85) /\"]]])\n",
    "#for s in sample:\n",
    "#    z = [fuzz.ratio(x[0], x[1])*0.01 for x in s]\n",
    "#    print(z)\n",
    "\n",
    "# [n_samples, n_features] dot [n_features, n_hidden]\n",
    "# -> [n_samples, n_hidden]\n",
    "np.random.seed(0)\n",
    "\n",
    "hidden_count = 2\n",
    "output_count = 1\n",
    "\n",
    "samples = np.array([[0.48, 0.58, 1], [0.97, 0.28, 1]])\n",
    "labels = np.array([0, 1])\n",
    "\n",
    "hidden_weights = np.random.randn(len(samples[0]), hidden_count)\n",
    "output_weights = np.random.randn(hidden_count, output_count) \n",
    "\n",
    "# Net input of hidden layer\n",
    "h_in = np.dot(samples, hidden_weights)\n",
    "\n",
    "# Activation of hidden layer\n",
    "def activate(aggregation):\n",
    "    return 1 / (1 + np.exp(-aggregation))\n",
    "h_a = activate(h_in)\n",
    "\n",
    "# Net input of output layer\n",
    "# [n_samples, n_hidden] dot [n_hidden, n_classlabels]\n",
    "# -> [n_samples, n_classlabels]\n",
    "o_in = np.dot(h_a, output_weights)\n",
    "o_a = activate(o_in)\n",
    "\n",
    "# Cost function\n",
    "def error_t1(s, l):\n",
    "    p = l.reshape((2, 1))    \n",
    "    return np.sum(s[p == 0]**2)\n",
    "        \n",
    "def error_t2(s, l):\n",
    "    p = l.reshape((2, 1))    \n",
    "    return np.sum((1 - s[p == 1])**2)\n",
    "\n",
    "    \n",
    "Q = np.sum(o_a**2) + np.sum((1 - o_a)**2)\n",
    "\n",
    "error_t1(o_a, labels) + error_t2(o_a, labels)\n",
    "\n",
    "# Predict\n",
    "def predict(s):\n",
    "    predictions = []    \n",
    "    if s[s > 0.7]:\n",
    "        predictions.append(1)\n",
    "    if s[s < 0.5]:\n",
    "        predictions.append(0)\n",
    "    if s[(s < 0.7) & (s > 0.5)]:\n",
    "        predictions.append(\"?\")\n",
    "    return np.array(predictions)\n",
    "\n",
    "predict(o_a)\n"
   ]
  },
  {
   "cell_type": "code",
   "execution_count": null,
   "metadata": {
    "collapsed": true
   },
   "outputs": [],
   "source": []
  }
 ],
 "metadata": {
  "kernelspec": {
   "display_name": "Python 3",
   "language": "python",
   "name": "python3"
  },
  "language_info": {
   "codemirror_mode": {
    "name": "ipython",
    "version": 3
   },
   "file_extension": ".py",
   "mimetype": "text/x-python",
   "name": "python",
   "nbconvert_exporter": "python",
   "pygments_lexer": "ipython3",
   "version": "3.6.3"
  }
 },
 "nbformat": 4,
 "nbformat_minor": 2
}
