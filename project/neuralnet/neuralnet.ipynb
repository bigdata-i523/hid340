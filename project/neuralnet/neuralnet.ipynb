{
 "cells": [
  {
   "cell_type": "code",
   "execution_count": 1,
   "metadata": {
    "collapsed": true
   },
   "outputs": [],
   "source": [
    "import pymarc as pymarc\n",
    "import numpy as np\n",
    "import pandas as pd\n",
    "from fuzzywuzzy import fuzz\n",
    "from fuzzywuzzy import process\n",
    "\n",
    "class NeuralNet:\n",
    "    \n",
    "    def __init__(self):\n",
    "        pass        \n",
    "\n",
    "class Node:\n",
    "    \n",
    "    def __init__(self, values, weights, bias, aggregation, activation):\n",
    "        self._values = values\n",
    "        self._weights = weights\n",
    "        self._bias = bias\n",
    "        self._activation = activation\n",
    "    \n",
    "    def _get_values(self):\n",
    "        return self._values\n",
    "    \n",
    "    def _set_values(self, values):\n",
    "        self._values = values\n",
    "    \n",
    "    values = property(_get_values, _set_values)\n",
    "    \n",
    "    def _aggregate(self):\n",
    "        return aggregate(self._values, self._weights, self._bias)\n",
    "    \n",
    "    def activate(self):\n",
    "        return activate(Node._aggregate(self))\n",
    "    \n",
    "            \n",
    "        \n",
    "        \n",
    "def aggregate(values, weights, bias):\n",
    "    return np.dot(values, weights) + bias * 1\n",
    "\n",
    "def activate(aggregation):\n",
    "    return 1 / (1 + np.exp(-aggregation))\n",
    "\n",
    "def compute_total_error(target, output):\n",
    "    return np.sum(1/2 * (target - output)**2)\n",
    "\n",
    "def compute_e_partial_o1(target, output):\n",
    "    return 2 * 1/2 * (target - output) * -1\n",
    "\n",
    "def compute_o1_partial_net(output):\n",
    "    return output * (1 - output)\n"
   ]
  },
  {
   "cell_type": "code",
   "execution_count": 2,
   "metadata": {},
   "outputs": [
    {
     "data": {
      "text/plain": [
       "array([ 0.35891648])"
      ]
     },
     "execution_count": 2,
     "metadata": {},
     "output_type": "execute_result"
    }
   ],
   "source": [
    "# Input values\n",
    "input = np.array([0.05, 0.1])\n",
    "\n",
    "# Input weights + bias\n",
    "input_weights_1 = np.array([0.15, 0.2])\n",
    "input_weights_2 = np.array([0.25, 0.3])\n",
    "bias_1 = np.array([0.35])\n",
    "\n",
    "# Hidden layer weights + bias\n",
    "hidden_weights_1 = np.array([.4, .45])\n",
    "hidden_weights_2 = np.array([.5, .55])\n",
    "bias_2 = np.array([.6])\n",
    "\n",
    "\n",
    "h1 = Node(input, input_weights_1, bias_1, aggregate, activate)\n",
    "h2 = Node(input, input_weights_2, bias_1, aggregate, activate)\n",
    "\n",
    "h_out = np.concatenate([h1.activate(), h2.activate()])\n",
    "\n",
    "o1 = Node(h_out, hidden_weights_1, bias_2, aggregate, activate)\n",
    "o2 = Node(h_out, hidden_weights_2, bias_2, aggregate, activate)\n",
    "\n",
    "o_out = np.concatenate([o1.activate(), o2.activate()])\n",
    "\n",
    "e_o1 = compute_total_error(0.01, o1.activate())\n",
    "e_o2 = compute_total_error(0.99, o2.activate())\n",
    "\n",
    "e_total = e_o1 + e_o2\n",
    "\n",
    "e_partial_o1 = compute_e_partial_o1(0.01, o1.activate())\n",
    "o1_partial_net = compute_o1_partial_net(o1.activate())\n",
    "o1_partial_w5 = 1 * h1.activate()\n",
    "w5 = 0.4 - .5 * e_partial_o1 * o1_partial_net * o1_partial_w5\n",
    "\n",
    "#0.4 - 0.5 * 0.082167041\n",
    "w5\n",
    "\n",
    "\n"
   ]
  },
  {
   "cell_type": "code",
   "execution_count": null,
   "metadata": {
    "collapsed": true
   },
   "outputs": [],
   "source": []
  }
 ],
 "metadata": {
  "kernelspec": {
   "display_name": "Python 3",
   "language": "python",
   "name": "python3"
  },
  "language_info": {
   "codemirror_mode": {
    "name": "ipython",
    "version": 3
   },
   "file_extension": ".py",
   "mimetype": "text/x-python",
   "name": "python",
   "nbconvert_exporter": "python",
   "pygments_lexer": "ipython3",
   "version": "3.6.3"
  }
 },
 "nbformat": 4,
 "nbformat_minor": 2
}
