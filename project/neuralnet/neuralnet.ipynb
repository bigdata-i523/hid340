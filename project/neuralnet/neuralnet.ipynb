{
 "cells": [
  {
   "cell_type": "code",
   "execution_count": 19,
   "metadata": {},
   "outputs": [],
   "source": [
    "import pymarc as pymarc\n",
    "import numpy as np\n",
    "import pandas as pd\n",
    "from fuzzywuzzy import fuzz\n",
    "from fuzzywuzzy import process\n",
    "\n",
    "class NeuralNet:\n",
    "    \n",
    "    def __init__(self):\n",
    "        pass        \n",
    "\n",
    "class Layer:\n",
    "    \n",
    "    def __init__(self):\n",
    "        pass\n",
    "            \n",
    "class InputLayer(Layer):\n",
    "    pass\n",
    "\n",
    "class HiddenLayer(Layer):\n",
    "    pass\n",
    "\n",
    "class OutputLayer(Layer):\n",
    "    pass\n",
    "\n",
    "class Node:\n",
    "    \n",
    "    def __init__(self):\n",
    "        pass\n",
    "\n",
    "class Input(Node):\n",
    "    pass\n",
    "\n",
    "class Output(Node):\n",
    "    pass\n",
    "\n",
    "class Bias(Node):\n",
    "    pass\n",
    "\n",
    "class Synapse:\n",
    "    \n",
    "    def __init__(self, weights):\n",
    "        self._weights = weights\n",
    "            \n",
    "    def _get_weights(self):\n",
    "        return self._weights\n",
    "        \n",
    "    def _set_weights(self, values):\n",
    "        self._weights = values\n",
    "    \n",
    "    weights = property(_get_weights, _set_weights)\n",
    "    \n",
    "\n",
    "class Aggregator:\n",
    "    pass\n",
    "\n",
    "class Activator:\n",
    "    pass\n",
    "\n",
    "\n",
    "    "
   ]
  },
  {
   "cell_type": "code",
   "execution_count": 18,
   "metadata": {},
   "outputs": [
    {
     "data": {
      "text/plain": [
       "array([ 4.,  5.,  6.])"
      ]
     },
     "execution_count": 18,
     "metadata": {},
     "output_type": "execute_result"
    }
   ],
   "source": [
    "synapse = Synapse(np.array([1., 2., 3.]))\n",
    "\n",
    "synapse.weights = np.array([4., 5., 6.])\n",
    "synapse.weights"
   ]
  }
 ],
 "metadata": {
  "kernelspec": {
   "display_name": "Python 3",
   "language": "python",
   "name": "python3"
  },
  "language_info": {
   "codemirror_mode": {
    "name": "ipython",
    "version": 3
   },
   "file_extension": ".py",
   "mimetype": "text/x-python",
   "name": "python",
   "nbconvert_exporter": "python",
   "pygments_lexer": "ipython3",
   "version": "3.6.3"
  }
 },
 "nbformat": 4,
 "nbformat_minor": 2
}
